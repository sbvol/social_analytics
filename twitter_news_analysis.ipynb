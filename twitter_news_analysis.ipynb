{
 "cells": [
  {
   "cell_type": "markdown",
   "metadata": {},
   "source": [
    "### Loading Dependencies\n",
    "***"
   ]
  },
  {
   "cell_type": "code",
   "execution_count": 1,
   "metadata": {
    "collapsed": true
   },
   "outputs": [],
   "source": [
    "# Dependencies\n",
    "import tweepy\n",
    "import json\n",
    "import numpy as np\n",
    "import pandas as pd\n",
    "import matplotlib.pyplot as plt"
   ]
  },
  {
   "cell_type": "code",
   "execution_count": 2,
   "metadata": {
    "collapsed": true
   },
   "outputs": [],
   "source": [
    "# Import and Initialize Sentiment Analyzer\n",
    "from vaderSentiment.vaderSentiment import SentimentIntensityAnalyzer\n",
    "analyzer = SentimentIntensityAnalyzer()"
   ]
  },
  {
   "cell_type": "markdown",
   "metadata": {},
   "source": [
    "### Initializing Variables\n",
    "***"
   ]
  },
  {
   "cell_type": "code",
   "execution_count": 3,
   "metadata": {},
   "outputs": [],
   "source": [
    "# Target Search Term\n",
    "target_terms = (\"@BBCWorld\", \"@CBSNews\", \"@CNNbrk\",\n",
    "                \"@FoxNews\", \"@nytimes\")\n",
    "len_targets = len(target_terms)\n",
    "save_compound_list = []\n",
    "save_sentiment = []\n",
    "save_compound_list_with_date = []\n",
    "counter = 0\n",
    "y_axis = np.arange(0,100,1)\n",
    "sentiment_array = []"
   ]
  },
  {
   "cell_type": "markdown",
   "metadata": {},
   "source": [
    "### Twitter API Auth Steps\n",
    "***"
   ]
  },
  {
   "cell_type": "code",
   "execution_count": 4,
   "metadata": {
    "collapsed": true
   },
   "outputs": [],
   "source": [
    "# Twitter API Keys\n",
    "consumer_key = 'ibYsFmAdHS8fhnupeA3opTRHN'\n",
    "consumer_secret = 'cSfliluzlYkSJ8EPJEOvQA5kKG9BE6MG1ddF8kHAyNc5ZJ6601'\n",
    "access_token = '943311356534472704-3tToKzZ2RMDtNOo4frlY6IEAg6iWGL1'\n",
    "access_token_secret = '42jS6EeOwV5ZaWde0LwxpL4dPyozVt5rv3URu7ZlP9m17'"
   ]
  },
  {
   "cell_type": "code",
   "execution_count": 5,
   "metadata": {
    "collapsed": true
   },
   "outputs": [],
   "source": [
    "# Setup Tweepy API Authentication\n",
    "auth = tweepy.OAuthHandler(consumer_key, consumer_secret)\n",
    "auth.set_access_token(access_token, access_token_secret)\n",
    "api = tweepy.API(auth, parser=tweepy.parsers.JSONParser())"
   ]
  },
  {
   "cell_type": "code",
   "execution_count": 7,
   "metadata": {},
   "outputs": [],
   "source": [
    "# Loop through all target users\n",
    "for target in target_terms:\n",
    "\n",
    "    # Variables for holding sentiments\n",
    "    compound_list = []\n",
    "    compound_list_with_date = []\n",
    "    positive_list = []\n",
    "    negative_list = []\n",
    "    neutral_list = []\n",
    "\n",
    "\n",
    "    # Using a loop to manage iteration thru each user\n",
    "    if counter <= len_targets:\n",
    "\n",
    "        # Use API to grab 100 tweets\n",
    "        public_tweets = api.user_timeline(target, count=100)\n",
    "\n",
    "        \n",
    "        # Loop through all tweets\n",
    "        for tweet in public_tweets:\n",
    "            \n",
    "            compound = analyzer.polarity_scores(tweet[\"text\"])[\"compound\"]\n",
    "            pos = analyzer.polarity_scores(tweet[\"text\"])[\"pos\"]\n",
    "            neu = analyzer.polarity_scores(tweet[\"text\"])[\"neu\"]\n",
    "            neg = analyzer.polarity_scores(tweet[\"text\"])[\"neg\"]\n",
    "\n",
    "            \n",
    "            compound_list.append(compound)\n",
    "            compound_list_with_date.append(compound)\n",
    "            compound_list_with_date.append(tweet['created_at'])\n",
    "            compound_list_with_date.append(target)\n",
    "            positive_list.append(pos)\n",
    "            negative_list.append(neg)\n",
    "            neutral_list.append(neu)\n",
    "\n",
    "    \n",
    "    sentiment = {\"User\": target,\n",
    "                 \"Compound\": np.mean(compound_list),\n",
    "                 \"Positive\": np.mean(positive_list),\n",
    "                 \"Neutral\": np.mean(negative_list),\n",
    "                 \"Negative\": np.mean(neutral_list),\n",
    "                 \"Tweet Count\": len(compound_list)}\n",
    "\n",
    "    save_sentiment.append(sentiment)\n",
    "    save_compound_list.append(compound_list)\n",
    "    save_compound_list_with_date.append(compound_list_with_date)\n",
    "    counter = counter + 1\n"
   ]
  },
  {
   "cell_type": "markdown",
   "metadata": {},
   "source": [
    "### Getting the dataframes ready for plotting\n",
    "***"
   ]
  },
  {
   "cell_type": "code",
   "execution_count": 41,
   "metadata": {},
   "outputs": [
    {
     "data": {
      "text/html": [
       "<div>\n",
       "<style>\n",
       "    .dataframe thead tr:only-child th {\n",
       "        text-align: right;\n",
       "    }\n",
       "\n",
       "    .dataframe thead th {\n",
       "        text-align: left;\n",
       "    }\n",
       "\n",
       "    .dataframe tbody tr th {\n",
       "        vertical-align: top;\n",
       "    }\n",
       "</style>\n",
       "<table border=\"1\" class=\"dataframe\">\n",
       "  <thead>\n",
       "    <tr style=\"text-align: right;\">\n",
       "      <th></th>\n",
       "      <th>0</th>\n",
       "      <th>1</th>\n",
       "      <th>2</th>\n",
       "      <th>3</th>\n",
       "      <th>4</th>\n",
       "    </tr>\n",
       "  </thead>\n",
       "  <tbody>\n",
       "    <tr>\n",
       "      <th>0</th>\n",
       "      <td>-0.6486</td>\n",
       "      <td>0.1779</td>\n",
       "      <td>-0.4404</td>\n",
       "      <td>-0.6705</td>\n",
       "      <td>0.0000</td>\n",
       "    </tr>\n",
       "    <tr>\n",
       "      <th>1</th>\n",
       "      <td>0.3412</td>\n",
       "      <td>-0.6908</td>\n",
       "      <td>0.4973</td>\n",
       "      <td>0.5719</td>\n",
       "      <td>-0.3818</td>\n",
       "    </tr>\n",
       "    <tr>\n",
       "      <th>2</th>\n",
       "      <td>0.0000</td>\n",
       "      <td>-0.6705</td>\n",
       "      <td>0.2960</td>\n",
       "      <td>0.6908</td>\n",
       "      <td>0.0000</td>\n",
       "    </tr>\n",
       "    <tr>\n",
       "      <th>3</th>\n",
       "      <td>-0.7783</td>\n",
       "      <td>0.0000</td>\n",
       "      <td>-0.5994</td>\n",
       "      <td>0.4585</td>\n",
       "      <td>0.0000</td>\n",
       "    </tr>\n",
       "    <tr>\n",
       "      <th>4</th>\n",
       "      <td>0.0000</td>\n",
       "      <td>-0.1280</td>\n",
       "      <td>-0.7003</td>\n",
       "      <td>-0.0516</td>\n",
       "      <td>-0.2960</td>\n",
       "    </tr>\n",
       "  </tbody>\n",
       "</table>\n",
       "</div>"
      ],
      "text/plain": [
       "        0       1       2       3       4\n",
       "0 -0.6486  0.1779 -0.4404 -0.6705  0.0000\n",
       "1  0.3412 -0.6908  0.4973  0.5719 -0.3818\n",
       "2  0.0000 -0.6705  0.2960  0.6908  0.0000\n",
       "3 -0.7783  0.0000 -0.5994  0.4585  0.0000\n",
       "4  0.0000 -0.1280 -0.7003 -0.0516 -0.2960"
      ]
     },
     "execution_count": 41,
     "metadata": {},
     "output_type": "execute_result"
    }
   ],
   "source": [
    "# Using the transpose function to make the rows columns\n",
    "compound_df = pd.DataFrame(save_compound_list)\n",
    "compound_df = compound_df.transpose()\n",
    "compound_df.head()"
   ]
  },
  {
   "cell_type": "code",
   "execution_count": 9,
   "metadata": {},
   "outputs": [
    {
     "data": {
      "text/html": [
       "<div>\n",
       "<style>\n",
       "    .dataframe thead tr:only-child th {\n",
       "        text-align: right;\n",
       "    }\n",
       "\n",
       "    .dataframe thead th {\n",
       "        text-align: left;\n",
       "    }\n",
       "\n",
       "    .dataframe tbody tr th {\n",
       "        vertical-align: top;\n",
       "    }\n",
       "</style>\n",
       "<table border=\"1\" class=\"dataframe\">\n",
       "  <thead>\n",
       "    <tr style=\"text-align: right;\">\n",
       "      <th></th>\n",
       "      <th>@BBCWorld</th>\n",
       "      <th>@CBSNews</th>\n",
       "      <th>@CNNbrk</th>\n",
       "      <th>@FoxNews</th>\n",
       "      <th>@nytimes</th>\n",
       "    </tr>\n",
       "  </thead>\n",
       "  <tbody>\n",
       "    <tr>\n",
       "      <th>0</th>\n",
       "      <td>-0.6486</td>\n",
       "      <td>0.1779</td>\n",
       "      <td>-0.4404</td>\n",
       "      <td>-0.6705</td>\n",
       "      <td>0.0000</td>\n",
       "    </tr>\n",
       "    <tr>\n",
       "      <th>1</th>\n",
       "      <td>0.3412</td>\n",
       "      <td>-0.6908</td>\n",
       "      <td>0.4973</td>\n",
       "      <td>0.5719</td>\n",
       "      <td>-0.3818</td>\n",
       "    </tr>\n",
       "    <tr>\n",
       "      <th>2</th>\n",
       "      <td>0.0000</td>\n",
       "      <td>-0.6705</td>\n",
       "      <td>0.2960</td>\n",
       "      <td>0.6908</td>\n",
       "      <td>0.0000</td>\n",
       "    </tr>\n",
       "    <tr>\n",
       "      <th>3</th>\n",
       "      <td>-0.7783</td>\n",
       "      <td>0.0000</td>\n",
       "      <td>-0.5994</td>\n",
       "      <td>0.4585</td>\n",
       "      <td>0.0000</td>\n",
       "    </tr>\n",
       "    <tr>\n",
       "      <th>4</th>\n",
       "      <td>0.0000</td>\n",
       "      <td>-0.1280</td>\n",
       "      <td>-0.7003</td>\n",
       "      <td>-0.0516</td>\n",
       "      <td>-0.2960</td>\n",
       "    </tr>\n",
       "  </tbody>\n",
       "</table>\n",
       "</div>"
      ],
      "text/plain": [
       "   @BBCWorld  @CBSNews  @CNNbrk  @FoxNews  @nytimes\n",
       "0    -0.6486    0.1779  -0.4404   -0.6705    0.0000\n",
       "1     0.3412   -0.6908   0.4973    0.5719   -0.3818\n",
       "2     0.0000   -0.6705   0.2960    0.6908    0.0000\n",
       "3    -0.7783    0.0000  -0.5994    0.4585    0.0000\n",
       "4     0.0000   -0.1280  -0.7003   -0.0516   -0.2960"
      ]
     },
     "execution_count": 9,
     "metadata": {},
     "output_type": "execute_result"
    }
   ],
   "source": [
    "# Setting the columns names\n",
    "compound_df.columns = target_terms\n",
    "compound_df.head()"
   ]
  },
  {
   "cell_type": "code",
   "execution_count": 10,
   "metadata": {
    "collapsed": true
   },
   "outputs": [],
   "source": [
    "# Creating a 'index' so that plotting is easier\n",
    "compound_df = compound_df.reset_index()"
   ]
  },
  {
   "cell_type": "code",
   "execution_count": 11,
   "metadata": {},
   "outputs": [
    {
     "data": {
      "image/png": "[encoded data removed]",
      "text/plain": [
       "<matplotlib.figure.Figure at 0x10e128cf8>"
      ]
     },
     "metadata": {},
     "output_type": "display_data"
    }
   ],
   "source": [
    "# Plotting one of the users...but I have 5 total users\n",
    "compound_df.plot(kind='scatter', x='index', y='@BBCWorld', subplots=False)\n",
    "plt.show()"
   ]
  },
  {
   "cell_type": "markdown",
   "metadata": {},
   "source": [
    "### Scatter Plotting 'Compound' Sentiment Analysis for ALL Datapoints\n",
    "***"
   ]
  },
  {
   "cell_type": "code",
   "execution_count": 12,
   "metadata": {},
   "outputs": [
    {
     "data": {
      "image/png": "[encoded data removed]",
      "text/plain": [
       "<matplotlib.figure.Figure at 0x10f322fd0>"
      ]
     },
     "metadata": {},
     "output_type": "display_data"
    }
   ],
   "source": [
    "# Using this plotting method given the number of variables/users\n",
    "# Note that the plot legend is not on the graph\n",
    "fig, ax = plt.subplots(sharex=True, figsize=(8, 6))\n",
    "compound_df.plot(x='index', y='@BBCWorld', markersize=5, color='blue', linestyle='none', ax=ax, marker='o')\n",
    "compound_df.plot(x='index', y='@CBSNews', markersize=5, color='red', linestyle='none', ax=ax, marker='o')\n",
    "compound_df.plot(x='index', y='@CNNbrk', markersize=5, color='green', linestyle='none', ax=ax, marker='o')\n",
    "compound_df.plot(x='index', y='@FoxNews', markersize=5, color='black', linestyle='none', ax=ax, marker='o')\n",
    "compound_df.plot(x='index', y='@nytimes', markersize=5, color='orange', linestyle='none', ax=ax, marker='o')\n",
    "plt.ylabel(\"Tweet Polarity\", size=10)\n",
    "plt.grid(True, color='gray', linestyle='-', linewidth=.5)\n",
    "plt.xlabel(\"Tweets Ago\", size=10)\n",
    "ax.legend(loc='upper left', bbox_to_anchor=(1, 1))\n",
    "plt.title('Sentiment Analysis of Media Tweets', size=17)\n",
    "plt.show()"
   ]
  },
  {
   "cell_type": "markdown",
   "metadata": {},
   "source": [
    "### Extra Credit - Plotting TimeSeries Data\n",
    "***"
   ]
  },
  {
   "cell_type": "code",
   "execution_count": 33,
   "metadata": {},
   "outputs": [],
   "source": [
    "# This was a neat exercise of learning how to convert a list into a 3 column dataframe\n",
    "# Using the reshape function is required before the column names can be assigned\n",
    "compound_wdate_df0 = pd.DataFrame(np.array(save_compound_list_with_date[0]).reshape(100,3), columns = ['Compound', 'Date', 'User'])\n",
    "compound_wdate_df1 = pd.DataFrame(np.array(save_compound_list_with_date[1]).reshape(100,3), columns = ['Compound', 'Date', 'User'])\n",
    "compound_wdate_df2 = pd.DataFrame(np.array(save_compound_list_with_date[2]).reshape(100,3), columns = ['Compound', 'Date', 'User'])\n",
    "compound_wdate_df3 = pd.DataFrame(np.array(save_compound_list_with_date[3]).reshape(100,3), columns = ['Compound', 'Date', 'User'])\n",
    "compound_wdate_df4 = pd.DataFrame(np.array(save_compound_list_with_date[4]).reshape(100,3), columns = ['Compound', 'Date', 'User'])"
   ]
  },
  {
   "cell_type": "code",
   "execution_count": 34,
   "metadata": {},
   "outputs": [],
   "source": [
    "compound_sub1 = compound_wdate_df0.append(compound_wdate_df1)"
   ]
  },
  {
   "cell_type": "code",
   "execution_count": 35,
   "metadata": {},
   "outputs": [],
   "source": [
    "compound_sub2 = compound_wdate_df2.append(compound_wdate_df3)"
   ]
  },
  {
   "cell_type": "code",
   "execution_count": 36,
   "metadata": {},
   "outputs": [],
   "source": [
    "compound_sub2 = compound_sub2.append(compound_wdate_df4)"
   ]
  },
  {
   "cell_type": "code",
   "execution_count": 37,
   "metadata": {
    "collapsed": true
   },
   "outputs": [],
   "source": [
    "compound_final = compound_sub1.append(compound_sub2)"
   ]
  },
  {
   "cell_type": "code",
   "execution_count": 38,
   "metadata": {},
   "outputs": [
    {
     "data": {
      "text/html": [
       "<div>\n",
       "<style>\n",
       "    .dataframe thead tr:only-child th {\n",
       "        text-align: right;\n",
       "    }\n",
       "\n",
       "    .dataframe thead th {\n",
       "        text-align: left;\n",
       "    }\n",
       "\n",
       "    .dataframe tbody tr th {\n",
       "        vertical-align: top;\n",
       "    }\n",
       "</style>\n",
       "<table border=\"1\" class=\"dataframe\">\n",
       "  <thead>\n",
       "    <tr style=\"text-align: right;\">\n",
       "      <th></th>\n",
       "      <th>Compound</th>\n",
       "      <th>Date</th>\n",
       "      <th>User</th>\n",
       "    </tr>\n",
       "  </thead>\n",
       "  <tbody>\n",
       "    <tr>\n",
       "      <th>0</th>\n",
       "      <td>-0.6486</td>\n",
       "      <td>Mon Jan 15 01:56:42 +0000 2018</td>\n",
       "      <td>@BBCWorld</td>\n",
       "    </tr>\n",
       "    <tr>\n",
       "      <th>1</th>\n",
       "      <td>0.3412</td>\n",
       "      <td>Mon Jan 15 01:52:15 +0000 2018</td>\n",
       "      <td>@BBCWorld</td>\n",
       "    </tr>\n",
       "    <tr>\n",
       "      <th>2</th>\n",
       "      <td>0.0</td>\n",
       "      <td>Mon Jan 15 01:46:24 +0000 2018</td>\n",
       "      <td>@BBCWorld</td>\n",
       "    </tr>\n",
       "    <tr>\n",
       "      <th>3</th>\n",
       "      <td>-0.7783</td>\n",
       "      <td>Mon Jan 15 01:42:25 +0000 2018</td>\n",
       "      <td>@BBCWorld</td>\n",
       "    </tr>\n",
       "    <tr>\n",
       "      <th>4</th>\n",
       "      <td>0.0</td>\n",
       "      <td>Mon Jan 15 01:35:38 +0000 2018</td>\n",
       "      <td>@BBCWorld</td>\n",
       "    </tr>\n",
       "  </tbody>\n",
       "</table>\n",
       "</div>"
      ],
      "text/plain": [
       "  Compound                            Date       User\n",
       "0  -0.6486  Mon Jan 15 01:56:42 +0000 2018  @BBCWorld\n",
       "1   0.3412  Mon Jan 15 01:52:15 +0000 2018  @BBCWorld\n",
       "2      0.0  Mon Jan 15 01:46:24 +0000 2018  @BBCWorld\n",
       "3  -0.7783  Mon Jan 15 01:42:25 +0000 2018  @BBCWorld\n",
       "4      0.0  Mon Jan 15 01:35:38 +0000 2018  @BBCWorld"
      ]
     },
     "execution_count": 38,
     "metadata": {},
     "output_type": "execute_result"
    }
   ],
   "source": [
    "# All of the steps above a needed to build a combined dataframe\n",
    "# Notice also that the date is a column\n",
    "compound_final.head()"
   ]
  },
  {
   "cell_type": "code",
   "execution_count": 39,
   "metadata": {
    "collapsed": true
   },
   "outputs": [],
   "source": [
    "compound_final['Date'] = pd.to_datetime(compound_final['Date'])"
   ]
  },
  {
   "cell_type": "code",
   "execution_count": 40,
   "metadata": {},
   "outputs": [
    {
     "data": {
      "text/html": [
       "<div>\n",
       "<style>\n",
       "    .dataframe thead tr:only-child th {\n",
       "        text-align: right;\n",
       "    }\n",
       "\n",
       "    .dataframe thead th {\n",
       "        text-align: left;\n",
       "    }\n",
       "\n",
       "    .dataframe tbody tr th {\n",
       "        vertical-align: top;\n",
       "    }\n",
       "</style>\n",
       "<table border=\"1\" class=\"dataframe\">\n",
       "  <thead>\n",
       "    <tr style=\"text-align: right;\">\n",
       "      <th></th>\n",
       "      <th>Compound</th>\n",
       "      <th>User</th>\n",
       "    </tr>\n",
       "    <tr>\n",
       "      <th>Date</th>\n",
       "      <th></th>\n",
       "      <th></th>\n",
       "    </tr>\n",
       "  </thead>\n",
       "  <tbody>\n",
       "    <tr>\n",
       "      <th>2018-01-15 01:56:42</th>\n",
       "      <td>-0.6486</td>\n",
       "      <td>@BBCWorld</td>\n",
       "    </tr>\n",
       "    <tr>\n",
       "      <th>2018-01-15 01:52:15</th>\n",
       "      <td>0.3412</td>\n",
       "      <td>@BBCWorld</td>\n",
       "    </tr>\n",
       "    <tr>\n",
       "      <th>2018-01-15 01:46:24</th>\n",
       "      <td>0.0</td>\n",
       "      <td>@BBCWorld</td>\n",
       "    </tr>\n",
       "    <tr>\n",
       "      <th>2018-01-15 01:42:25</th>\n",
       "      <td>-0.7783</td>\n",
       "      <td>@BBCWorld</td>\n",
       "    </tr>\n",
       "    <tr>\n",
       "      <th>2018-01-15 01:35:38</th>\n",
       "      <td>0.0</td>\n",
       "      <td>@BBCWorld</td>\n",
       "    </tr>\n",
       "  </tbody>\n",
       "</table>\n",
       "</div>"
      ],
      "text/plain": [
       "                    Compound       User\n",
       "Date                                   \n",
       "2018-01-15 01:56:42  -0.6486  @BBCWorld\n",
       "2018-01-15 01:52:15   0.3412  @BBCWorld\n",
       "2018-01-15 01:46:24      0.0  @BBCWorld\n",
       "2018-01-15 01:42:25  -0.7783  @BBCWorld\n",
       "2018-01-15 01:35:38      0.0  @BBCWorld"
      ]
     },
     "execution_count": 40,
     "metadata": {},
     "output_type": "execute_result"
    }
   ],
   "source": [
    "# This step is needed to get the date into the index\n",
    "# This is required if you want to easily plot the data\n",
    "compound_final.set_index(['Date'], inplace=True)\n",
    "compound_final.head()"
   ]
  },
  {
   "cell_type": "code",
   "execution_count": 21,
   "metadata": {},
   "outputs": [
    {
     "data": {
      "image/png": "[encoded data removed]",
      "text/plain": [
       "<matplotlib.figure.Figure at 0x10f2f89b0>"
      ]
     },
     "metadata": {},
     "output_type": "display_data"
    }
   ],
   "source": [
    "# This graph is the right data but the x and y axis are not on the right scale. Notice the date span on the x axis\n",
    "# Notice the y axis labels\n",
    "plt.scatter(compound_final.index, compound_final.Compound)\n",
    "plt.show()"
   ]
  },
  {
   "cell_type": "markdown",
   "metadata": {},
   "source": [
    "### Plotting the Average Compound Value for Each User\n",
    "***"
   ]
  },
  {
   "cell_type": "code",
   "execution_count": 44,
   "metadata": {},
   "outputs": [
    {
     "data": {
      "text/html": [
       "<div>\n",
       "<style>\n",
       "    .dataframe thead tr:only-child th {\n",
       "        text-align: right;\n",
       "    }\n",
       "\n",
       "    .dataframe thead th {\n",
       "        text-align: left;\n",
       "    }\n",
       "\n",
       "    .dataframe tbody tr th {\n",
       "        vertical-align: top;\n",
       "    }\n",
       "</style>\n",
       "<table border=\"1\" class=\"dataframe\">\n",
       "  <thead>\n",
       "    <tr style=\"text-align: right;\">\n",
       "      <th></th>\n",
       "      <th>Compound</th>\n",
       "      <th>Negative</th>\n",
       "      <th>Neutral</th>\n",
       "      <th>Positive</th>\n",
       "      <th>Tweet Count</th>\n",
       "      <th>User</th>\n",
       "    </tr>\n",
       "  </thead>\n",
       "  <tbody>\n",
       "    <tr>\n",
       "      <th>0</th>\n",
       "      <td>-0.142123</td>\n",
       "      <td>0.81369</td>\n",
       "      <td>0.13182</td>\n",
       "      <td>0.05448</td>\n",
       "      <td>100</td>\n",
       "      <td>@BBCWorld</td>\n",
       "    </tr>\n",
       "    <tr>\n",
       "      <th>1</th>\n",
       "      <td>-0.156360</td>\n",
       "      <td>0.84051</td>\n",
       "      <td>0.11656</td>\n",
       "      <td>0.04289</td>\n",
       "      <td>100</td>\n",
       "      <td>@CBSNews</td>\n",
       "    </tr>\n",
       "    <tr>\n",
       "      <th>2</th>\n",
       "      <td>0.035990</td>\n",
       "      <td>0.81470</td>\n",
       "      <td>0.08281</td>\n",
       "      <td>0.10250</td>\n",
       "      <td>100</td>\n",
       "      <td>@CNNbrk</td>\n",
       "    </tr>\n",
       "    <tr>\n",
       "      <th>3</th>\n",
       "      <td>-0.024568</td>\n",
       "      <td>0.83032</td>\n",
       "      <td>0.09784</td>\n",
       "      <td>0.07186</td>\n",
       "      <td>100</td>\n",
       "      <td>@FoxNews</td>\n",
       "    </tr>\n",
       "    <tr>\n",
       "      <th>4</th>\n",
       "      <td>-0.041352</td>\n",
       "      <td>0.86409</td>\n",
       "      <td>0.07588</td>\n",
       "      <td>0.05999</td>\n",
       "      <td>100</td>\n",
       "      <td>@nytimes</td>\n",
       "    </tr>\n",
       "  </tbody>\n",
       "</table>\n",
       "</div>"
      ],
      "text/plain": [
       "   Compound  Negative  Neutral  Positive  Tweet Count       User\n",
       "0 -0.142123   0.81369  0.13182   0.05448          100  @BBCWorld\n",
       "1 -0.156360   0.84051  0.11656   0.04289          100   @CBSNews\n",
       "2  0.035990   0.81470  0.08281   0.10250          100    @CNNbrk\n",
       "3 -0.024568   0.83032  0.09784   0.07186          100   @FoxNews\n",
       "4 -0.041352   0.86409  0.07588   0.05999          100   @nytimes"
      ]
     },
     "execution_count": 44,
     "metadata": {},
     "output_type": "execute_result"
    }
   ],
   "source": [
    "# Creating a sentiment dataframe\n",
    "# Writing sentiment data to a csv file\n",
    "sentiment_df = pd.DataFrame(save_sentiment)\n",
    "sentiment_df.to_csv('sentiment.csv', sep=',', header=True, index=True, index_label=None)\n",
    "sentiment_df"
   ]
  },
  {
   "cell_type": "code",
   "execution_count": 25,
   "metadata": {},
   "outputs": [
    {
     "data": {
      "image/png": "[encoded data removed]",
      "text/plain": [
       "<matplotlib.figure.Figure at 0x117919ef0>"
      ]
     },
     "metadata": {},
     "output_type": "display_data"
    }
   ],
   "source": [
    "# Note that the colors for each bar are the same\n",
    "colors = ['#624ea7', 'g', 'yellow', 'k']\n",
    "sentiment_df.plot.bar(x='User', y='Compound', subplots=False, color=colors)\n",
    "plt.grid(True, color='gray', linestyle='-', linewidth=.5)\n",
    "plt.axhline(0, color='k')\n",
    "plt.ylabel(\"Tweet Polarity\", size=10)\n",
    "plt.xlabel(\"User\", size=10)\n",
    "plt.title('Sentiment Analysis of Media Tweets', size=17)\n",
    "plt.show()"
   ]
  },
  {
   "cell_type": "code",
   "execution_count": 48,
   "metadata": {},
   "outputs": [
    {
     "data": {
      "image/png": "[encoded data removed]",
      "text/plain": [
       "<matplotlib.figure.Figure at 0x10f467390>"
      ]
     },
     "metadata": {},
     "output_type": "display_data"
    }
   ],
   "source": [
    "# Using different code to change the color of each bar\n",
    "# Also notice the highlighted '0' line\n",
    "n=5\n",
    "tick_label = sentiment_df['User']\n",
    "data = sentiment_df['Compound']\n",
    "fig, ax = plt.subplots(figsize=(7, 5))\n",
    "bar_locations = np.arange(n)\n",
    "colors = ['#624ea7', 'g', 'yellow', 'k', 'maroon']\n",
    "plt.grid(True, color='gray', linestyle='-', linewidth=.5)\n",
    "plt.axhline(0, color='k')\n",
    "ax = plt.bar(bar_locations, data, color=colors, tick_label=tick_label)\n",
    "plt.ylabel(\"Tweet Polarity\", size=10)\n",
    "plt.xlabel(\"Users\", size=10)\n",
    "plt.title('Sentiment Analysis of Media Tweets', size=17)\n",
    "plt.show()"
   ]
  },
  {
   "cell_type": "markdown",
   "metadata": {},
   "source": [
    "### Extra Credit - Adding a data table to the bottom of my graph\n",
    "***"
   ]
  },
  {
   "cell_type": "code",
   "execution_count": 55,
   "metadata": {},
   "outputs": [
    {
     "data": {
      "image/png": "[encoded data removed]",
      "text/plain": [
       "<matplotlib.figure.Figure at 0x117b40780>"
      ]
     },
     "metadata": {},
     "output_type": "display_data"
    }
   ],
   "source": [
    "# With more time I would have liked to have experimented with this method\n",
    "data = sentiment_df['Compound']\n",
    "columns = target_terms\n",
    "rows = 'Compound'\n",
    "\n",
    "values = np.arange(-.175, .150, .025)\n",
    "\n",
    "# Get some pastel shades for the colors\n",
    "colors = plt.cm.BuPu(np.linspace(0, 0.5, len(rows)))\n",
    "n_rows = 1\n",
    "\n",
    "index = np.arange(len(columns)) + 0.3\n",
    "bar_width = 0.4\n",
    "\n",
    "# Initialize the vertical-offset for the stacked bar chart.\n",
    "y_offset = np.zeros(len(columns))\n",
    "\n",
    "# Plot bars and create text labels for the table\n",
    "cell_text = []\n",
    "for row in range(n_rows):\n",
    "    plt.bar(index, data[row], bar_width, bottom=y_offset, color=colors[row])\n",
    "    y_offset = y_offset + data[row]\n",
    "    cell_text.append(['%1.1f' % x for x in y_offset])\n",
    "# Reverse colors and text labels to display the last value at the top.\n",
    "colors = colors[::-1]\n",
    "cell_text.reverse()\n",
    "\n",
    "# Add a table at the bottom of the axes\n",
    "the_table = plt.table(cellText=cell_text,\n",
    "                      rowColours=colors,\n",
    "                      colLabels=columns)\n",
    "\n",
    "# Adjust layout to make room for the table:\n",
    "plt.subplots_adjust(left=0.2, bottom=0.2)\n",
    "\n",
    "#plt.ylabel(\"Loss in ${0}'s\".format(value_increment))\n",
    "#plt.yticks(values ['%d' % val for val in values])\n",
    "#plt.xticks([])\n",
    "plt.title('Title')\n",
    "plt.show()"
   ]
  },
  {
   "cell_type": "code",
   "execution_count": 58,
   "metadata": {},
   "outputs": [
    {
     "data": {
      "image/png": "[encoded data removed]",
      "text/plain": [
       "<matplotlib.figure.Figure at 0x11890d898>"
      ]
     },
     "metadata": {},
     "output_type": "display_data"
    }
   ],
   "source": [
    "# Adding data labels to the graph using the zip feature\n",
    "x = sentiment_df['User']\n",
    "y = sentiment_df['Compound']\n",
    "plt.bar(x, y)\n",
    "for a,b in zip(x, y):\n",
    "    plt.text(a, b, str(b))\n",
    "colors = ['#624ea7', 'g', 'yellow', 'k', 'maroon']\n",
    "plt.grid(True, color='gray', linestyle='-', linewidth=.5)\n",
    "plt.axhline(0, color='k')\n",
    "plt.ylabel(\"Tweet Polarity\", size=10)\n",
    "plt.xlabel(\"Users\", size=10)\n",
    "plt.title('Sentiment Analysis of Media Tweets', size=17)\n",
    "plt.show()"
   ]
  },
  {
   "cell_type": "markdown",
   "metadata": {},
   "source": [
    "### Obversations\n",
    "***"
   ]
  },
  {
   "cell_type": "markdown",
   "metadata": {},
   "source": [
    "On the surface this appeared to be a relatively straight forward assignment.  There were challenges with graphs (data labels and changing the color of the each bar for example).  There were challenges with the list and dataframes including working with DateTime, index, adding rows to dataframes, etc."
   ]
  },
  {
   "cell_type": "markdown",
   "metadata": {},
   "source": [
    "Interesting that only one news agency had a positive sentiment. It would be interesting to do more analysis on the\n",
    "CBS tweets to determine why this user is far less than 2 of the others...why it's the worse score."
   ]
  },
  {
   "cell_type": "markdown",
   "metadata": {},
   "source": [
    "With more time I would have loved to have down more analysis on the positive sentiment tweets to see which words or which subjects generated positive sentiments."
   ]
  },
  {
   "cell_type": "code",
   "execution_count": null,
   "metadata": {
    "collapsed": true
   },
   "outputs": [],
   "source": []
  }
 ],
 "metadata": {
  "kernelspec": {
   "display_name": "Python 3",
   "language": "python",
   "name": "python3"
  },
  "language_info": {
   "codemirror_mode": {
    "name": "ipython",
    "version": 3
   },
   "file_extension": ".py",
   "mimetype": "text/x-python",
   "name": "python",
   "nbconvert_exporter": "python",
   "pygments_lexer": "ipython3",
   "version": "3.6.3"
  }
 },
 "nbformat": 4,
 "nbformat_minor": 2
}
